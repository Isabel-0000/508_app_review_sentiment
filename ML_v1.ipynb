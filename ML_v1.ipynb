{
 "cells": [
  {
   "cell_type": "code",
   "execution_count": 1,
   "metadata": {},
   "outputs": [],
   "source": [
    "import pandas as pd\n",
    "df_N=pd.read_csv('negative.csv')\n",
    "df_P=pd.read_csv('positive.csv')"
   ]
  },
  {
   "cell_type": "code",
   "execution_count": 2,
   "metadata": {},
   "outputs": [
    {
     "data": {
      "text/html": [
       "<div>\n",
       "<style scoped>\n",
       "    .dataframe tbody tr th:only-of-type {\n",
       "        vertical-align: middle;\n",
       "    }\n",
       "\n",
       "    .dataframe tbody tr th {\n",
       "        vertical-align: top;\n",
       "    }\n",
       "\n",
       "    .dataframe thead th {\n",
       "        text-align: right;\n",
       "    }\n",
       "</style>\n",
       "<table border=\"1\" class=\"dataframe\">\n",
       "  <thead>\n",
       "    <tr style=\"text-align: right;\">\n",
       "      <th></th>\n",
       "      <th>Unnamed: 0</th>\n",
       "      <th>Text</th>\n",
       "      <th>Sent</th>\n",
       "    </tr>\n",
       "  </thead>\n",
       "  <tbody>\n",
       "    <tr>\n",
       "      <td>0</td>\n",
       "      <td>0</td>\n",
       "      <td>Ya no I'd ur going make an app make sure it works</td>\n",
       "      <td>Negative</td>\n",
       "    </tr>\n",
       "    <tr>\n",
       "      <td>1</td>\n",
       "      <td>1</td>\n",
       "      <td>STUPID ADDS THE STUPID ADDS POP UP EVERY 5 SEC...</td>\n",
       "      <td>Negative</td>\n",
       "    </tr>\n",
       "    <tr>\n",
       "      <td>2</td>\n",
       "      <td>2</td>\n",
       "      <td>WTF Needs way more detail. 1. Sun should go do...</td>\n",
       "      <td>Negative</td>\n",
       "    </tr>\n",
       "    <tr>\n",
       "      <td>3</td>\n",
       "      <td>3</td>\n",
       "      <td>I love this game. But all of a sudden it when ...</td>\n",
       "      <td>Negative</td>\n",
       "    </tr>\n",
       "    <tr>\n",
       "      <td>4</td>\n",
       "      <td>4</td>\n",
       "      <td>Mark Now I can't send photo n images pls fix i...</td>\n",
       "      <td>Negative</td>\n",
       "    </tr>\n",
       "    <tr>\n",
       "      <td>...</td>\n",
       "      <td>...</td>\n",
       "      <td>...</td>\n",
       "      <td>...</td>\n",
       "    </tr>\n",
       "    <tr>\n",
       "      <td>9764</td>\n",
       "      <td>9764</td>\n",
       "      <td>Freezes too often It freezes too often. There ...</td>\n",
       "      <td>Negative</td>\n",
       "    </tr>\n",
       "    <tr>\n",
       "      <td>9765</td>\n",
       "      <td>9765</td>\n",
       "      <td>Won't let me play It won't let me play as gues...</td>\n",
       "      <td>Negative</td>\n",
       "    </tr>\n",
       "    <tr>\n",
       "      <td>9766</td>\n",
       "      <td>9766</td>\n",
       "      <td>Garbage App is broken Used to work well. Now i...</td>\n",
       "      <td>Negative</td>\n",
       "    </tr>\n",
       "    <tr>\n",
       "      <td>9767</td>\n",
       "      <td>9767</td>\n",
       "      <td>HATE IT HOW ARE WE SUPPOSE TO HAVE FUN WHEN IT...</td>\n",
       "      <td>Negative</td>\n",
       "    </tr>\n",
       "    <tr>\n",
       "      <td>9768</td>\n",
       "      <td>9768</td>\n",
       "      <td>Good</td>\n",
       "      <td>Negative</td>\n",
       "    </tr>\n",
       "  </tbody>\n",
       "</table>\n",
       "<p>9769 rows × 3 columns</p>\n",
       "</div>"
      ],
      "text/plain": [
       "      Unnamed: 0                                               Text      Sent\n",
       "0              0  Ya no I'd ur going make an app make sure it works  Negative\n",
       "1              1  STUPID ADDS THE STUPID ADDS POP UP EVERY 5 SEC...  Negative\n",
       "2              2  WTF Needs way more detail. 1. Sun should go do...  Negative\n",
       "3              3  I love this game. But all of a sudden it when ...  Negative\n",
       "4              4  Mark Now I can't send photo n images pls fix i...  Negative\n",
       "...          ...                                                ...       ...\n",
       "9764        9764  Freezes too often It freezes too often. There ...  Negative\n",
       "9765        9765  Won't let me play It won't let me play as gues...  Negative\n",
       "9766        9766  Garbage App is broken Used to work well. Now i...  Negative\n",
       "9767        9767  HATE IT HOW ARE WE SUPPOSE TO HAVE FUN WHEN IT...  Negative\n",
       "9768        9768                                               Good  Negative\n",
       "\n",
       "[9769 rows x 3 columns]"
      ]
     },
     "execution_count": 2,
     "metadata": {},
     "output_type": "execute_result"
    }
   ],
   "source": [
    "df_N"
   ]
  },
  {
   "cell_type": "code",
   "execution_count": 6,
   "metadata": {},
   "outputs": [],
   "source": [
    "train1=df_N['Text'][:7500]\n",
    "train1L=df_N['Sent'][:7500]\n",
    "train2=df_P['Text'][:7500]\n",
    "train2L=df_P['Sent'][:7500]\n",
    "\n",
    "test1=df_N['Text'][7500:]\n",
    "test1L=df_N['Sent'][7500:]\n",
    "test2=df_P['Text'][7500:]\n",
    "test2L=df_P['Sent'][7500:]"
   ]
  },
  {
   "cell_type": "code",
   "execution_count": 17,
   "metadata": {},
   "outputs": [],
   "source": [
    "train_set=train1.append(train2)\n",
    "train_set=train_set.tolist()\n",
    "train_label=train1L.append(train2L)\n",
    "train_label=train_label.tolist()\n",
    "test_set=test1.append(test2)\n",
    "test_set=test_set.tolist()\n",
    "test_label=test1L.append(test2L)\n",
    "test_label=test_label.tolist()"
   ]
  },
  {
   "cell_type": "code",
   "execution_count": 22,
   "metadata": {},
   "outputs": [],
   "source": [
    "import numpy as np"
   ]
  },
  {
   "cell_type": "code",
   "execution_count": 27,
   "metadata": {},
   "outputs": [],
   "source": [
    "from sklearn.feature_extraction.text import CountVectorizer\n",
    "\n",
    "vectorizer = CountVectorizer()\n",
    "x_train_counts=vectorizer.fit_transform(np.array(train_set))\n",
    "varietal_list=np.array(train_label)"
   ]
  },
  {
   "cell_type": "code",
   "execution_count": 28,
   "metadata": {},
   "outputs": [],
   "source": [
    "from sklearn.model_selection import train_test_split\n",
    "from sklearn.feature_extraction.text import TfidfTransformer\n",
    "tfidf_transformer = TfidfTransformer()\n",
    "x_train_tfidf = tfidf_transformer.fit_transform(x_train_counts)\n",
    "\n",
    "train_x, test_x, train_y, test_y = train_test_split(x_train_tfidf, varietal_list, test_size=0.3)"
   ]
  },
  {
   "cell_type": "code",
   "execution_count": 33,
   "metadata": {},
   "outputs": [],
   "source": [
    "num_test_p=0\n",
    "num_test_n=0\n",
    "for i in range(len(test_y)):\n",
    "    temp=test_y[i]\n",
    "    if temp == \"Negative\":\n",
    "        num_test_n=num_test_n+1\n",
    "    if temp == \"Positive\":\n",
    "        num_test_p=num_test_p+1"
   ]
  },
  {
   "cell_type": "code",
   "execution_count": 35,
   "metadata": {},
   "outputs": [],
   "source": [
    "from sklearn.naive_bayes import MultinomialNB\n",
    "nb = MultinomialNB().fit(train_x, train_y)\n",
    "y_score_nb = nb.predict(test_x)"
   ]
  },
  {
   "cell_type": "code",
   "execution_count": 42,
   "metadata": {},
   "outputs": [
    {
     "name": "stdout",
     "output_type": "stream",
     "text": [
      "Testing Accuracy Negative NB: 90.54%\n",
      "Testing Accuracy Positive NB: 86.42%\n"
     ]
    }
   ],
   "source": [
    "n_right_nb = 0\n",
    "p_right_nb = 0\n",
    "for i in range(len(y_score_nb)):\n",
    "    if ((y_score_nb[i] == test_y[i]) and (y_score_nb[i] == \"Negative\")) :\n",
    "        n_right_nb += 1\n",
    "    if ((y_score_nb[i] == test_y[i]) and (y_score_nb[i] == \"Positive\")) :\n",
    "        p_right_nb += 1    \n",
    "\n",
    "print(\"Testing Accuracy Negative NB: %.2f%%\" % ((n_right_nb/num_test_n * 100)))\n",
    "print(\"Testing Accuracy Positive NB: %.2f%%\" % ((p_right_nb/num_test_p * 100)))"
   ]
  },
  {
   "cell_type": "code",
   "execution_count": 45,
   "metadata": {},
   "outputs": [],
   "source": [
    "from sklearn.tree import DecisionTreeClassifier\n",
    "dtree = DecisionTreeClassifier().fit(train_x, train_y)\n",
    "y_score_dtree = dtree.predict(test_x)"
   ]
  },
  {
   "cell_type": "code",
   "execution_count": 50,
   "metadata": {},
   "outputs": [
    {
     "name": "stdout",
     "output_type": "stream",
     "text": [
      "Testing Accuracy Negative Decision Tree: 81.43%\n",
      "Testing Accuracy Positive Decision Tree: 78.73%\n"
     ]
    }
   ],
   "source": [
    "n_right_dtree = 0\n",
    "p_right_dtree = 0\n",
    "for i in range(len(y_score_dtree)):\n",
    "    if ((y_score_dtree[i] == test_y[i]) and (y_score_dtree[i] == \"Negative\")) :\n",
    "        n_right_dtree += 1\n",
    "    if ((y_score_dtree[i] == test_y[i]) and (y_score_dtree[i] == \"Positive\")) :\n",
    "        p_right_dtree += 1    \n",
    "\n",
    "print(\"Testing Accuracy Negative Decision Tree: %.2f%%\" % ((n_right_dtree/num_test_n * 100)))\n",
    "print(\"Testing Accuracy Positive Decision Tree: %.2f%%\" % ((p_right_dtree/num_test_p * 100)))"
   ]
  },
  {
   "cell_type": "code",
   "execution_count": 55,
   "metadata": {},
   "outputs": [],
   "source": [
    "from sklearn.svm import LinearSVC\n",
    "svc=LinearSVC().fit(train_x, train_y)\n",
    "y_score_svc = svc.predict(test_x)"
   ]
  },
  {
   "cell_type": "code",
   "execution_count": 57,
   "metadata": {},
   "outputs": [
    {
     "name": "stdout",
     "output_type": "stream",
     "text": [
      "Testing Accuracy Negative SVM classifier: 89.08%\n",
      "Testing Accuracy Positive SVM classifier: 90.62%\n"
     ]
    }
   ],
   "source": [
    "n_right_svc = 0\n",
    "p_right_svc = 0\n",
    "for i in range(len(y_score_svc)):\n",
    "    if ((y_score_svc[i] == test_y[i]) and (y_score_svc[i] == \"Negative\")) :\n",
    "        n_right_svc += 1\n",
    "    if ((y_score_svc[i] == test_y[i]) and (y_score_svc[i] == \"Positive\")) :\n",
    "        p_right_svc += 1    \n",
    "\n",
    "print(\"Testing Accuracy Negative Linear SVM classifier: %.2f%%\" % ((n_right_svc/num_test_n * 100)))\n",
    "print(\"Testing Accuracy Positive Linear SVM classifier: %.2f%%\" % ((p_right_svc/num_test_p * 100)))"
   ]
  },
  {
   "cell_type": "code",
   "execution_count": 64,
   "metadata": {},
   "outputs": [],
   "source": [
    "from sklearn.linear_model import RidgeClassifier\n",
    "ridge=RidgeClassifier().fit(train_x, train_y)\n",
    "y_score_ridge = ridge.predict(test_x)"
   ]
  },
  {
   "cell_type": "code",
   "execution_count": 66,
   "metadata": {},
   "outputs": [
    {
     "name": "stdout",
     "output_type": "stream",
     "text": [
      "Testing Accuracy Negative Ridge classifier: 88.55%\n",
      "Testing Accuracy Positive Ridge classifier: 90.30%\n"
     ]
    }
   ],
   "source": [
    "n_right_ridge = 0\n",
    "p_right_ridge = 0\n",
    "for i in range(len(y_score_ridge)):\n",
    "    if ((y_score_ridge[i] == test_y[i]) and (y_score_ridge[i] == \"Negative\")) :\n",
    "        n_right_ridge += 1\n",
    "    if ((y_score_ridge[i] == test_y[i]) and (y_score_ridge[i] == \"Positive\")) :\n",
    "        p_right_ridge += 1    \n",
    "\n",
    "print(\"Testing Accuracy Negative Ridge classifier: %.2f%%\" % ((n_right_ridge/num_test_n * 100)))\n",
    "print(\"Testing Accuracy Positive Ridge classifier: %.2f%%\" % ((p_right_ridge/num_test_p * 100)))"
   ]
  },
  {
   "cell_type": "code",
   "execution_count": 67,
   "metadata": {},
   "outputs": [
    {
     "name": "stdout",
     "output_type": "stream",
     "text": [
      "Testing Accuracy Negative KNN, 21 neighbors: 52.92%\n",
      "Testing Accuracy Positive KNN, 21 neighbors: 58.13%\n"
     ]
    }
   ],
   "source": [
    "from sklearn.neighbors import KNeighborsClassifier\n",
    "knn=KNeighborsClassifier(n_neighbors=21).fit(train_x, train_y)\n",
    "y_score_knn = knn.predict(test_x)\n",
    "\n",
    "n_right_knn = 0\n",
    "p_right_knn = 0\n",
    "for i in range(len(y_score_knn)):\n",
    "    if ((y_score_knn[i] == test_y[i]) and (y_score_knn[i] == \"Negative\")) :\n",
    "        n_right_knn += 1\n",
    "    if ((y_score_knn[i] == test_y[i]) and (y_score_knn[i] == \"Positive\")) :\n",
    "        p_right_knn += 1    \n",
    "\n",
    "print(\"Testing Accuracy Negative KNN, 21 neighbors: %.2f%%\" % ((n_right_knn/num_test_n * 100)))\n",
    "print(\"Testing Accuracy Positive KNN, 21 neighbors: %.2f%%\" % ((p_right_knn/num_test_p * 100)))"
   ]
  },
  {
   "cell_type": "code",
   "execution_count": 68,
   "metadata": {},
   "outputs": [
    {
     "name": "stdout",
     "output_type": "stream",
     "text": [
      "Testing Accuracy Negative KNN, 121 neighbors: 84.04%\n",
      "Testing Accuracy Positive KNN, 121 neighbors: 90.62%\n"
     ]
    }
   ],
   "source": [
    "knn2=KNeighborsClassifier(n_neighbors=121).fit(train_x, train_y)\n",
    "y_score_knn2 = knn2.predict(test_x)\n",
    "\n",
    "n_right_knn2 = 0\n",
    "p_right_knn2 = 0\n",
    "for i in range(len(y_score_knn2)):\n",
    "    if ((y_score_knn2[i] == test_y[i]) and (y_score_knn2[i] == \"Negative\")) :\n",
    "        n_right_knn2 += 1\n",
    "    if ((y_score_knn2[i] == test_y[i]) and (y_score_knn2[i] == \"Positive\")) :\n",
    "        p_right_knn2 += 1    \n",
    "\n",
    "print(\"Testing Accuracy Negative KNN, 121 neighbors: %.2f%%\" % ((n_right_knn2/num_test_n * 100)))\n",
    "print(\"Testing Accuracy Positive KNN, 121 neighbors: %.2f%%\" % ((p_right_knn2/num_test_p * 100)))"
   ]
  },
  {
   "cell_type": "code",
   "execution_count": 69,
   "metadata": {},
   "outputs": [
    {
     "name": "stdout",
     "output_type": "stream",
     "text": [
      "Testing Accuracy Negative KNN, 501 neighbors: 85.46%\n",
      "Testing Accuracy Positive KNN, 501 neighbors: 86.24%\n"
     ]
    }
   ],
   "source": [
    "knn3=KNeighborsClassifier(n_neighbors=501).fit(train_x, train_y)\n",
    "y_score_knn3 = knn3.predict(test_x)\n",
    "\n",
    "n_right_knn3 = 0\n",
    "p_right_knn3 = 0\n",
    "for i in range(len(y_score_knn3)):\n",
    "    if ((y_score_knn3[i] == test_y[i]) and (y_score_knn3[i] == \"Negative\")) :\n",
    "        n_right_knn3 += 1\n",
    "    if ((y_score_knn3[i] == test_y[i]) and (y_score_knn3[i] == \"Positive\")) :\n",
    "        p_right_knn3 += 1    \n",
    "\n",
    "print(\"Testing Accuracy Negative KNN, 501 neighbors: %.2f%%\" % ((n_right_knn3/num_test_n * 100)))\n",
    "print(\"Testing Accuracy Positive KNN, 501 neighbors: %.2f%%\" % ((p_right_knn3/num_test_p * 100)))"
   ]
  },
  {
   "cell_type": "code",
   "execution_count": null,
   "metadata": {},
   "outputs": [],
   "source": []
  }
 ],
 "metadata": {
  "kernelspec": {
   "display_name": "Python 3",
   "language": "python",
   "name": "python3"
  },
  "language_info": {
   "codemirror_mode": {
    "name": "ipython",
    "version": 3
   },
   "file_extension": ".py",
   "mimetype": "text/x-python",
   "name": "python",
   "nbconvert_exporter": "python",
   "pygments_lexer": "ipython3",
   "version": "3.6.9"
  }
 },
 "nbformat": 4,
 "nbformat_minor": 2
}
