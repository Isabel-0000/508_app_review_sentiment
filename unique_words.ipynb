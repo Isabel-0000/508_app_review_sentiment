{
 "cells": [
  {
   "cell_type": "code",
   "execution_count": 2,
   "metadata": {},
   "outputs": [],
   "source": [
    "import pandas as pd\n",
    "df_N=pd.read_csv('negative.csv')\n",
    "df_P=pd.read_csv('positive.csv')"
   ]
  },
  {
   "cell_type": "code",
   "execution_count": 3,
   "metadata": {},
   "outputs": [],
   "source": [
    "import nltk\n",
    "from nltk import word_tokenize"
   ]
  },
  {
   "cell_type": "code",
   "execution_count": 4,
   "metadata": {},
   "outputs": [
    {
     "data": {
      "text/html": [
       "<div>\n",
       "<style scoped>\n",
       "    .dataframe tbody tr th:only-of-type {\n",
       "        vertical-align: middle;\n",
       "    }\n",
       "\n",
       "    .dataframe tbody tr th {\n",
       "        vertical-align: top;\n",
       "    }\n",
       "\n",
       "    .dataframe thead th {\n",
       "        text-align: right;\n",
       "    }\n",
       "</style>\n",
       "<table border=\"1\" class=\"dataframe\">\n",
       "  <thead>\n",
       "    <tr style=\"text-align: right;\">\n",
       "      <th></th>\n",
       "      <th>Unnamed: 0</th>\n",
       "      <th>Text</th>\n",
       "      <th>Sent</th>\n",
       "    </tr>\n",
       "  </thead>\n",
       "  <tbody>\n",
       "    <tr>\n",
       "      <td>0</td>\n",
       "      <td>0</td>\n",
       "      <td>Ya no I'd ur going make an app make sure it works</td>\n",
       "      <td>Negative</td>\n",
       "    </tr>\n",
       "    <tr>\n",
       "      <td>1</td>\n",
       "      <td>1</td>\n",
       "      <td>STUPID ADDS THE STUPID ADDS POP UP EVERY 5 SEC...</td>\n",
       "      <td>Negative</td>\n",
       "    </tr>\n",
       "    <tr>\n",
       "      <td>2</td>\n",
       "      <td>2</td>\n",
       "      <td>WTF Needs way more detail. 1. Sun should go do...</td>\n",
       "      <td>Negative</td>\n",
       "    </tr>\n",
       "    <tr>\n",
       "      <td>3</td>\n",
       "      <td>3</td>\n",
       "      <td>I love this game. But all of a sudden it when ...</td>\n",
       "      <td>Negative</td>\n",
       "    </tr>\n",
       "    <tr>\n",
       "      <td>4</td>\n",
       "      <td>4</td>\n",
       "      <td>Mark Now I can't send photo n images pls fix i...</td>\n",
       "      <td>Negative</td>\n",
       "    </tr>\n",
       "    <tr>\n",
       "      <td>...</td>\n",
       "      <td>...</td>\n",
       "      <td>...</td>\n",
       "      <td>...</td>\n",
       "    </tr>\n",
       "    <tr>\n",
       "      <td>9764</td>\n",
       "      <td>9764</td>\n",
       "      <td>Freezes too often It freezes too often. There ...</td>\n",
       "      <td>Negative</td>\n",
       "    </tr>\n",
       "    <tr>\n",
       "      <td>9765</td>\n",
       "      <td>9765</td>\n",
       "      <td>Won't let me play It won't let me play as gues...</td>\n",
       "      <td>Negative</td>\n",
       "    </tr>\n",
       "    <tr>\n",
       "      <td>9766</td>\n",
       "      <td>9766</td>\n",
       "      <td>Garbage App is broken Used to work well. Now i...</td>\n",
       "      <td>Negative</td>\n",
       "    </tr>\n",
       "    <tr>\n",
       "      <td>9767</td>\n",
       "      <td>9767</td>\n",
       "      <td>HATE IT HOW ARE WE SUPPOSE TO HAVE FUN WHEN IT...</td>\n",
       "      <td>Negative</td>\n",
       "    </tr>\n",
       "    <tr>\n",
       "      <td>9768</td>\n",
       "      <td>9768</td>\n",
       "      <td>Good</td>\n",
       "      <td>Negative</td>\n",
       "    </tr>\n",
       "  </tbody>\n",
       "</table>\n",
       "<p>9769 rows × 3 columns</p>\n",
       "</div>"
      ],
      "text/plain": [
       "      Unnamed: 0                                               Text      Sent\n",
       "0              0  Ya no I'd ur going make an app make sure it works  Negative\n",
       "1              1  STUPID ADDS THE STUPID ADDS POP UP EVERY 5 SEC...  Negative\n",
       "2              2  WTF Needs way more detail. 1. Sun should go do...  Negative\n",
       "3              3  I love this game. But all of a sudden it when ...  Negative\n",
       "4              4  Mark Now I can't send photo n images pls fix i...  Negative\n",
       "...          ...                                                ...       ...\n",
       "9764        9764  Freezes too often It freezes too often. There ...  Negative\n",
       "9765        9765  Won't let me play It won't let me play as gues...  Negative\n",
       "9766        9766  Garbage App is broken Used to work well. Now i...  Negative\n",
       "9767        9767  HATE IT HOW ARE WE SUPPOSE TO HAVE FUN WHEN IT...  Negative\n",
       "9768        9768                                               Good  Negative\n",
       "\n",
       "[9769 rows x 3 columns]"
      ]
     },
     "execution_count": 4,
     "metadata": {},
     "output_type": "execute_result"
    }
   ],
   "source": [
    "df_N"
   ]
  },
  {
   "cell_type": "code",
   "execution_count": 6,
   "metadata": {},
   "outputs": [],
   "source": [
    "neg_toks=[]\n",
    "for i in range(len(df_N)):\n",
    "    temp=str(df_N['Text'][i])\n",
    "    temp2=word_tokenize(temp)\n",
    "    for j in range(len(temp2)):\n",
    "        neg_toks.append(temp2[j])"
   ]
  },
  {
   "cell_type": "code",
   "execution_count": 7,
   "metadata": {},
   "outputs": [],
   "source": [
    "pos_toks=[]\n",
    "for i in range(len(df_P)):\n",
    "    temp=str(df_P['Text'][i])\n",
    "    temp2=word_tokenize(temp)\n",
    "    for j in range(len(temp2)):\n",
    "        pos_toks.append(temp2[j])"
   ]
  },
  {
   "cell_type": "code",
   "execution_count": 8,
   "metadata": {},
   "outputs": [],
   "source": [
    "neg_set=set(neg_toks)\n",
    "pos_set=set(pos_toks)"
   ]
  },
  {
   "cell_type": "code",
   "execution_count": 11,
   "metadata": {},
   "outputs": [],
   "source": [
    "neg2_set=neg_set-pos_set\n",
    "pos2_set=pos_set-neg_set"
   ]
  },
  {
   "cell_type": "code",
   "execution_count": 12,
   "metadata": {},
   "outputs": [],
   "source": [
    "neg_list=list(neg2_set)\n",
    "pos_list=list(pos2_set)"
   ]
  },
  {
   "cell_type": "code",
   "execution_count": 13,
   "metadata": {},
   "outputs": [],
   "source": [
    "negs=0\n",
    "for i in range(len(df_N)):\n",
    "    neg_ct=0\n",
    "    pos_ct=0\n",
    "    temp=str(df_N['Text'][i])\n",
    "    temp2=word_tokenize(temp)\n",
    "    for j in range(len(temp2)):\n",
    "        if str(temp2[j]) in neg_list:\n",
    "            neg_ct=neg_ct+1\n",
    "        elif str(temp2[j]) in pos_list:\n",
    "            pos_ct=pos_ct+1\n",
    "        else:\n",
    "            pass\n",
    "    if neg_ct > pos_ct:\n",
    "        negs=negs+1"
   ]
  },
  {
   "cell_type": "code",
   "execution_count": 15,
   "metadata": {},
   "outputs": [
    {
     "name": "stdout",
     "output_type": "stream",
     "text": [
      "0.676937250486232 for Negative set using unique negative words\n"
     ]
    }
   ],
   "source": [
    "print(str(negs/len(df_N))+\" for Negative set using unique negative words\")"
   ]
  },
  {
   "cell_type": "code",
   "execution_count": 17,
   "metadata": {},
   "outputs": [
    {
     "name": "stdout",
     "output_type": "stream",
     "text": [
      "0.5806121404442625 for Positive set using unique positive words\n"
     ]
    }
   ],
   "source": [
    "poss=0\n",
    "for i in range(len(df_P)):\n",
    "    neg_ct=0\n",
    "    pos_ct=0\n",
    "    temp=str(df_P['Text'][i])\n",
    "    temp2=word_tokenize(temp)\n",
    "    for j in range(len(temp2)):\n",
    "        if str(temp2[j]) in neg_list:\n",
    "            neg_ct=neg_ct+1\n",
    "        elif str(temp2[j]) in pos_list:\n",
    "            pos_ct=pos_ct+1\n",
    "        else:\n",
    "            pass\n",
    "    if pos_ct > neg_ct:\n",
    "        poss=poss+1\n",
    "print(str(poss/len(df_N))+\" for Positive set using unique positive words\")"
   ]
  },
  {
   "cell_type": "code",
   "execution_count": null,
   "metadata": {},
   "outputs": [],
   "source": []
  }
 ],
 "metadata": {
  "kernelspec": {
   "display_name": "Python 3",
   "language": "python",
   "name": "python3"
  },
  "language_info": {
   "codemirror_mode": {
    "name": "ipython",
    "version": 3
   },
   "file_extension": ".py",
   "mimetype": "text/x-python",
   "name": "python",
   "nbconvert_exporter": "python",
   "pygments_lexer": "ipython3",
   "version": "3.6.9"
  }
 },
 "nbformat": 4,
 "nbformat_minor": 2
}
