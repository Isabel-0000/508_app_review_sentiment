{
 "cells": [
  {
   "cell_type": "code",
   "execution_count": 1,
   "metadata": {},
   "outputs": [],
   "source": [
    "import pandas as pd\n",
    "df_P=pd.read_csv('positive.csv')\n",
    "df_N=pd.read_csv('negative.csv')"
   ]
  },
  {
   "cell_type": "code",
   "execution_count": 2,
   "metadata": {},
   "outputs": [],
   "source": [
    "import nltk\n",
    "from nltk.tokenize import sent_tokenize, word_tokenize\n",
    "from nltk.sentiment.vader import SentimentIntensityAnalyzer"
   ]
  },
  {
   "cell_type": "code",
   "execution_count": 3,
   "metadata": {},
   "outputs": [],
   "source": [
    "def sentiment_value(paragraph):\n",
    "    analyser = SentimentIntensityAnalyzer()\n",
    "    result = analyser.polarity_scores(paragraph)\n",
    "    score = result['compound']\n",
    "    return round(score,1)"
   ]
  },
  {
   "cell_type": "code",
   "execution_count": 4,
   "metadata": {},
   "outputs": [],
   "source": [
    "def sent_str(sent):\n",
    "    SENTIMENT=\"\"\n",
    "\n",
    "    if (sent<=1 and sent>0.2):\n",
    "        SENTIMENT=('Positive')\n",
    "\n",
    "    elif (sent<-.2 and sent>=-1):\n",
    "        SENTIMENT=('Negative')\n",
    "    else:\n",
    "        SENTIMENT=('Neutral')\n",
    "    return SENTIMENT\n"
   ]
  },
  {
   "cell_type": "code",
   "execution_count": 6,
   "metadata": {},
   "outputs": [],
   "source": [
    "vader_pos=[]\n",
    "for i in range(len(df_P)):\n",
    "    text=str(df_P[\"Text\"][i])\n",
    "    temp_score=sentiment_value(text)\n",
    "    temp_sent=sent_str(temp_score)\n",
    "    vader_pos.append(temp_sent)"
   ]
  },
  {
   "cell_type": "code",
   "execution_count": 7,
   "metadata": {},
   "outputs": [],
   "source": [
    "df_P[\"Vader_Sent\"]=vader_pos\n",
    "df_P.to_csv(\"Baseline_Pos.csv\")"
   ]
  },
  {
   "cell_type": "code",
   "execution_count": 8,
   "metadata": {},
   "outputs": [],
   "source": [
    "vader_neg=[]\n",
    "for i in range(len(df_N)):\n",
    "    text=str(df_N[\"Text\"][i])\n",
    "    temp_score=sentiment_value(text)\n",
    "    temp_sent=sent_str(temp_score)\n",
    "    vader_neg.append(temp_sent)"
   ]
  },
  {
   "cell_type": "code",
   "execution_count": 9,
   "metadata": {},
   "outputs": [],
   "source": [
    "df_N[\"Vader_Sent\"]=vader_neg\n",
    "df_N.to_csv(\"Baseline_Neg.csv\")"
   ]
  },
  {
   "cell_type": "code",
   "execution_count": 10,
   "metadata": {},
   "outputs": [],
   "source": [
    "count_P=0\n",
    "for i in range(len(df_P)):\n",
    "    if df_P['Vader_Sent'][i]=='Positive':\n",
    "        count_P=count_P+1"
   ]
  },
  {
   "cell_type": "code",
   "execution_count": 11,
   "metadata": {},
   "outputs": [
    {
     "name": "stdout",
     "output_type": "stream",
     "text": [
      "Accuracy Positive Set: 0.8553855385538554\n"
     ]
    }
   ],
   "source": [
    "print(\"Accuracy Positive Set: \"+str(count_P/len(df_P)))"
   ]
  },
  {
   "cell_type": "code",
   "execution_count": 12,
   "metadata": {},
   "outputs": [],
   "source": [
    "count_N=0\n",
    "for i in range(len(df_N)):\n",
    "    if df_N['Vader_Sent'][i]=='Negative':\n",
    "        count_N=count_N+1"
   ]
  },
  {
   "cell_type": "code",
   "execution_count": 13,
   "metadata": {},
   "outputs": [
    {
     "name": "stdout",
     "output_type": "stream",
     "text": [
      "Accuracy Negative Set: 0.3926706930084963\n"
     ]
    }
   ],
   "source": [
    "print(\"Accuracy Negative Set: \"+str(count_N/len(df_N)))"
   ]
  },
  {
   "cell_type": "code",
   "execution_count": null,
   "metadata": {},
   "outputs": [],
   "source": []
  }
 ],
 "metadata": {
  "kernelspec": {
   "display_name": "Python 3",
   "language": "python",
   "name": "python3"
  },
  "language_info": {
   "codemirror_mode": {
    "name": "ipython",
    "version": 3
   },
   "file_extension": ".py",
   "mimetype": "text/x-python",
   "name": "python",
   "nbconvert_exporter": "python",
   "pygments_lexer": "ipython3",
   "version": "3.6.9"
  }
 },
 "nbformat": 4,
 "nbformat_minor": 2
}
